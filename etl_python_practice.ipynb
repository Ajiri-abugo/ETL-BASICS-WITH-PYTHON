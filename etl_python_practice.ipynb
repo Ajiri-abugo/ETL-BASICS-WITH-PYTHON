{
 "cells": [
  {
   "cell_type": "code",
   "execution_count": null,
   "id": "4812f963-4348-49e3-bfc1-1976ccfbe436",
   "metadata": {},
   "outputs": [],
   "source": []
  },
  {
   "cell_type": "code",
   "execution_count": 1,
   "id": "c2e186be-190a-42bc-b6ab-1be2bd0c30c9",
   "metadata": {},
   "outputs": [],
   "source": [
    "import glob\n",
    "import pandas as pd\n",
    "import xml.etree.ElementTree as ET\n",
    "from datetime import datetime"
   ]
  },
  {
   "cell_type": "code",
   "execution_count": 2,
   "id": "b7f9d6b2-2264-4d27-829c-fcbd23414669",
   "metadata": {},
   "outputs": [],
   "source": [
    "log_file = 'log_file.txt'\n",
    "target_file = 'transformed_data.csv'"
   ]
  },
  {
   "cell_type": "code",
   "execution_count": 6,
   "id": "b40b680d-5dcd-42b7-b62a-991e0e7f337e",
   "metadata": {},
   "outputs": [
    {
     "name": "stderr",
     "output_type": "stream",
     "text": [
      "C:\\Users\\user\\AppData\\Local\\Temp\\ipykernel_17028\\3504526275.py:27: FutureWarning: The behavior of DataFrame concatenation with empty or all-NA entries is deprecated. In a future version, this will no longer exclude empty or all-NA columns when determining the result dtypes. To retain the old behavior, exclude the relevant entries before the concat operation.\n",
      "  extracted_data = pd.concat([extracted_data, pd.DataFrame(extract_from_csvs(csvfile))], ignore_index=True)\n",
      "C:\\Users\\user\\AppData\\Local\\Temp\\ipykernel_17028\\3504526275.py:19: FutureWarning: The behavior of DataFrame concatenation with empty or all-NA entries is deprecated. In a future version, this will no longer exclude empty or all-NA columns when determining the result dtypes. To retain the old behavior, exclude the relevant entries before the concat operation.\n",
      "  dataframe = pd.concat([dataframe, pd.DataFrame([{'car_model':car_model, 'year_of_manufacture':year_of_manufacture, 'price':price, 'fuel':fuel}])], ignore_index=True)\n",
      "C:\\Users\\user\\AppData\\Local\\Temp\\ipykernel_17028\\3504526275.py:19: FutureWarning: The behavior of DataFrame concatenation with empty or all-NA entries is deprecated. In a future version, this will no longer exclude empty or all-NA columns when determining the result dtypes. To retain the old behavior, exclude the relevant entries before the concat operation.\n",
      "  dataframe = pd.concat([dataframe, pd.DataFrame([{'car_model':car_model, 'year_of_manufacture':year_of_manufacture, 'price':price, 'fuel':fuel}])], ignore_index=True)\n",
      "C:\\Users\\user\\AppData\\Local\\Temp\\ipykernel_17028\\3504526275.py:19: FutureWarning: The behavior of DataFrame concatenation with empty or all-NA entries is deprecated. In a future version, this will no longer exclude empty or all-NA columns when determining the result dtypes. To retain the old behavior, exclude the relevant entries before the concat operation.\n",
      "  dataframe = pd.concat([dataframe, pd.DataFrame([{'car_model':car_model, 'year_of_manufacture':year_of_manufacture, 'price':price, 'fuel':fuel}])], ignore_index=True)\n"
     ]
    },
    {
     "name": "stdout",
     "output_type": "stream",
     "text": [
      "Transformed Data\n",
      "        car_model year_of_manufacture     price    fuel\n",
      "0            ritz                2014   5000.00  Petrol\n",
      "1             sx4                2013   7089.55  Diesel\n",
      "2            ciaz                2017  10820.90  Petrol\n",
      "3         wagon r                2011   4253.73  Petrol\n",
      "4           swift                2014   6865.67  Diesel\n",
      "..            ...                 ...       ...     ...\n",
      "85          camry                2006   3731.34  Petrol\n",
      "86   land cruiser                2010  52238.81  Diesel\n",
      "87  corolla altis                2012   8805.97  Petrol\n",
      "88     etios liva                2013   5149.25  Petrol\n",
      "89        etios g                2014   7089.55  Petrol\n",
      "\n",
      "[90 rows x 4 columns]\n"
     ]
    }
   ],
   "source": [
    "#extracting files\n",
    "def extract_from_csvs(file_to_process):\n",
    "    dataframe = pd.read_csv(file_to_process)\n",
    "    return dataframe\n",
    "\n",
    "def extract_from_jsons(file_to_process):\n",
    "    dataframe = pd.read_json(file_to_process, lines=True)\n",
    "    return dataframe\n",
    "\n",
    "def extract_from_xmls(file_to_process):\n",
    "    dataframe = pd.DataFrame(columns=['car_model','year_of_manufacture','price','fuel'])\n",
    "    tree = ET.parse(file_to_process)\n",
    "    root = tree.getroot()\n",
    "    for car in root:\n",
    "        car_model = car.find('car_model').text\n",
    "        year_of_manufacture = car.find('year_of_manufacture').text\n",
    "        price = float(car.find('price').text)\n",
    "        fuel = car.find('fuel').text\n",
    "        dataframe = pd.concat([dataframe, pd.DataFrame([{'car_model':car_model, 'year_of_manufacture':year_of_manufacture, 'price':price, 'fuel':fuel}])], ignore_index=True)\n",
    "    return dataframe\n",
    "\n",
    "def extract_files():\n",
    "    path = 'C:/Users/user/Documents/IBM Data Engineering/Python Project for Data Engineering/ETL PRACTICE/data_source'\n",
    "    extracted_data = pd.DataFrame(columns=['car_model','year_of_manufacture','price','fuel'])\n",
    "    #for csv files\n",
    "    for csvfile in glob.glob(path + '/*.csv'):\n",
    "        extracted_data = pd.concat([extracted_data, pd.DataFrame(extract_from_csvs(csvfile))], ignore_index=True)\n",
    "    #for json files\n",
    "    for jsonfile in glob.glob(path + '/*.json'):\n",
    "        extracted_data = pd.concat([extracted_data, pd.DataFrame(extract_from_jsons(jsonfile))], ignore_index=True)\n",
    "    #for xml files\n",
    "    for xmlfile in glob.glob(path + '/*.xml'):\n",
    "        extracted_data = pd.concat([extracted_data, pd.DataFrame(extract_from_xmls(xmlfile))], ignore_index=True)\n",
    "    return extracted_data\n",
    "\n",
    "def transform(data):\n",
    "    #rounding the values in price to 2dp\n",
    "    data['price'] = round(data.price, 2)\n",
    "    return data\n",
    "\n",
    "def load_data(target_file, transformed_data):\n",
    "    transformed_data.to_csv(target_file)\n",
    "\n",
    "def log_progress(message):\n",
    "    timestamp_format = '%Y-%h-%d-%H:%M:%S' # Year-Monthname-Day-Hour-Minute-Second \n",
    "    now = datetime.now() # get current timestamp \n",
    "    timestamp = now.strftime(timestamp_format)\n",
    "    with open(log_file,\"a\") as f:\n",
    "        f.write(timestamp + ',' + message + '\\n')\n",
    "\n",
    "# Log the initialization of the ETL process \n",
    "log_progress(\"ETL Job Started\") \n",
    "  \n",
    "# Log the beginning of the Extraction process \n",
    "log_progress(\"Extract phase Started\") \n",
    "extracted_data = extract_files() \n",
    "  \n",
    "# Log the completion of the Extraction process \n",
    "log_progress(\"Extract phase Ended\") \n",
    "  \n",
    "# Log the beginning of the Transformation process \n",
    "log_progress(\"Transform phase Started\") \n",
    "transformed_data = transform(extracted_data) \n",
    "print(\"Transformed Data\") \n",
    "print(transformed_data) \n",
    "  \n",
    "# Log the completion of the Transformation process \n",
    "log_progress(\"Transform phase Ended\") \n",
    "  \n",
    "# Log the beginning of the Loading process \n",
    "log_progress(\"Load phase Started\") \n",
    "load_data(target_file,transformed_data) \n",
    "  \n",
    "# Log the completion of the Loading process \n",
    "log_progress(\"Load phase Ended\") \n",
    "  "
   ]
  },
  {
   "cell_type": "code",
   "execution_count": null,
   "id": "a3899938-9881-4410-84f4-82c68069ff90",
   "metadata": {},
   "outputs": [],
   "source": []
  }
 ],
 "metadata": {
  "kernelspec": {
   "display_name": "Python 3 (ipykernel)",
   "language": "python",
   "name": "python3"
  },
  "language_info": {
   "codemirror_mode": {
    "name": "ipython",
    "version": 3
   },
   "file_extension": ".py",
   "mimetype": "text/x-python",
   "name": "python",
   "nbconvert_exporter": "python",
   "pygments_lexer": "ipython3",
   "version": "3.12.2"
  }
 },
 "nbformat": 4,
 "nbformat_minor": 5
}
